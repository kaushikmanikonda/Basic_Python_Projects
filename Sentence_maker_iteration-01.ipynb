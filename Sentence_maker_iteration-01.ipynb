{
 "cells": [
  {
   "cell_type": "markdown",
   "metadata": {},
   "source": [
    "# This is the first iteration of a basic script called \"Sentence maker\". This script takes sentences as inputs from the user and returns a properly formatted paragraph. "
   ]
  },
  {
   "cell_type": "code",
   "execution_count": 42,
   "metadata": {},
   "outputs": [],
   "source": [
    "def secret_word(string):\n",
    "    if isinstance(string,str):\n",
    "        inpt2=string\n",
    "        while True:\n",
    "            inpt=input(\"Say Something:\")\n",
    "            if inpt == \"\\end\":\n",
    "                break\n",
    "            elif (inpt.split()[0]).lower() in [\"how\",\"what\",\"when\",\"why\",\"who\",\"where\",\"is\",\"are\"]:\n",
    "                if inpt.split()[-1][-1] == \"?\":\n",
    "                    inpt2=inpt2+\" \"+(inpt.capitalize())\n",
    "                elif inpt.split()[-1][-1] in [\"!\",\"@\",\"#\",\"$\",\"%\",\">\",\"<\",\":\",\",\",\";\"]:\n",
    "                    #The balnket replce() function below will cause a problem when there are multiple special\n",
    "                    #characters in a given string. Need to find a better way to replace the last special\n",
    "                    #character with a space.\n",
    "                    inpt = inpt.replace(inpt.split()[-1][-1],\" \")\n",
    "                    inpt = inpt.strip()\n",
    "                    inpt2 = inpt2+\" \"+(inpt.capitalize())+\"?\"\n",
    "                else:\n",
    "                    inpt2 = inpt2+\" \"+(inpt.capitalize())+\"?\"\n",
    "            elif inpt.split()[-1][-1] in [\".\",\"!\",\"@\",\"#\",\"$\",\"%\",\">\",\"<\",\":\",\",\",\";\"]:\n",
    "                inpt2=inpt2+\" \"+(inpt.capitalize())\n",
    "            else:\n",
    "                inpt2=inpt2+\" \"+(inpt.capitalize())+\".\"\n",
    "    else:\n",
    "        print(\"Function calling error: Please enter a string inside the function call\")\n",
    "    return inpt2\n"
   ]
  },
  {
   "cell_type": "code",
   "execution_count": 43,
   "metadata": {},
   "outputs": [
    {
     "name": "stdin",
     "output_type": "stream",
     "text": [
      "Say Something: how are you\n",
      "Say Something: who is Gamorah!\n",
      "Say Something: How is Gamorah?\n",
      "Say Something: where is Gamorah!\n",
      "Say Something: Why is Gamorah?\n",
      "Say Something: I am Kaushik!\n",
      "Say Something: are you Gamorah!\n",
      "Say Something: No, I am not Gamorah!\n",
      "Say Something: \\end\n"
     ]
    },
    {
     "data": {
      "text/plain": [
       "'Kaushik Manikonda How are you? Who is gamorah? How is gamorah? Where is gamorah? Why is gamorah? I am kaushik! Are you gamorah? No, i am not gamorah!'"
      ]
     },
     "execution_count": 43,
     "metadata": {},
     "output_type": "execute_result"
    }
   ],
   "source": [
    "secret_word(\"Kaushik Manikonda\")"
   ]
  }
 ],
 "metadata": {
  "kernelspec": {
   "display_name": "Python 3",
   "language": "python",
   "name": "python3"
  },
  "language_info": {
   "codemirror_mode": {
    "name": "ipython",
    "version": 3
   },
   "file_extension": ".py",
   "mimetype": "text/x-python",
   "name": "python",
   "nbconvert_exporter": "python",
   "pygments_lexer": "ipython3",
   "version": "3.8.5"
  }
 },
 "nbformat": 4,
 "nbformat_minor": 4
}
