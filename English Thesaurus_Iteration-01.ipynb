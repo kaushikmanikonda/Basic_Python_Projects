{
 "cells": [
  {
   "cell_type": "code",
   "execution_count": 1,
   "metadata": {},
   "outputs": [],
   "source": [
    "import numpy as np"
   ]
  },
  {
   "cell_type": "code",
   "execution_count": 2,
   "metadata": {},
   "outputs": [
    {
     "data": {
      "text/plain": [
       "dict"
      ]
     },
     "execution_count": 2,
     "metadata": {},
     "output_type": "execute_result"
    }
   ],
   "source": [
    "#This cell imports the raw json file with a dictionary of words and definitions.\n",
    "import json\n",
    "data = json.load(open(\"C:\\\\Users\\\\rajak\\\\Documents\\\\DATA Science Resources\\\\Certifications\\\\Udemy\\\\Course Files\\\\The Python Mega Course_03-2021\\\\English Thesaurus/data.json\"))\n",
    "type(data)"
   ]
  },
  {
   "cell_type": "code",
   "execution_count": 3,
   "metadata": {},
   "outputs": [],
   "source": [
    "def similarity_score(w1,w2):\n",
    "    lis1 = []\n",
    "    lis2 = []\n",
    "    for l in w1:\n",
    "        lis1.append(l)\n",
    "    for m in w2:\n",
    "        lis2.append(m)\n",
    "    i = 0\n",
    "    for n in range(len(w1)):\n",
    "        if lis1[n] == lis2[n]:\n",
    "            i += 1\n",
    "    return i"
   ]
  },
  {
   "cell_type": "code",
   "execution_count": 4,
   "metadata": {},
   "outputs": [
    {
     "name": "stdout",
     "output_type": "stream",
     "text": [
      "Please enter a word:Ajple\n",
      "677\n",
      "677\n",
      "Did you mean to type any of the below words?\n",
      "\n",
      "['Adele' 'Amele' 'Akele' 'apple' 'Adele' 'Amele' 'ample' 'maple' 'Akele'\n",
      " 'tuple' 'apple' 'Adele' 'Amele' 'ample' 'maple' 'Akele' 'tuple' 'apple'\n",
      " 'ample' 'maple' 'tuple']\n",
      "Please enter a word:RRad\n",
      "123\n",
      "123\n",
      "Did you mean to type any of the below words?\n",
      "\n",
      "['lead' 'road' 'toad' 'head' 'dead' 'Chad' 'read' 'mead' 'glad' 'load'\n",
      " 'lead' 'road' 'toad' 'head' 'dead' 'Chad' 'read' 'mead' 'glad' 'load']\n",
      "Please enter a word:Treple\n",
      "947\n",
      "947\n",
      "Did you mean to type any of the below words?\n",
      "\n",
      "['creole' 'triple' 'treble' 'Creole' 'creole' 'triple' 'treble' 'Creole'\n",
      " 'triple']\n",
      "Please enter a word:apple\n",
      "[\"A native Eurasian tree of the genus ''Malus''.\", 'The popular, crisp, round fruit of the apple tree, usually with red, yellow or green skin, light-coloured flesh and pips inside.', 'The wood of the apple tree.']\n",
      "Please enter a word:triple\n",
      "['To make three times as great.', 'To become three times as great.', 'Composed of three elements or parts.', 'In mathematics, an ordered list of three elements.']\n",
      "Please enter a word:3\n",
      "Please enter a word, not a number\n",
      "Please enter a word:2.7\n",
      "Please enter a word containing only alphabets\n",
      "Please enter a word:\\end\n",
      "Terminated!\n"
     ]
    }
   ],
   "source": [
    "#This cell defines a function that takes a word as an argument and returns its definition as the output.\n",
    "while True:\n",
    "    word = input(\"Please enter a word:\")\n",
    "    dummy = word\n",
    "    if word == \"\\end\":\n",
    "        print(\"Terminated!\")\n",
    "        break\n",
    "    elif dummy.lower() in data.keys():\n",
    "        dummy1 = dummy.lower()\n",
    "        output = data[dummy1]\n",
    "        print(output)\n",
    "    elif dummy.isnumeric():\n",
    "        print(\"Please enter a word, not a number\")\n",
    "        continue\n",
    "    elif (dummy.isalpha() == False):\n",
    "        print(\"Please enter a word containing only alphabets\")\n",
    "        continue\n",
    "    else:\n",
    "        dummy1 = []\n",
    "        dummy2 = []\n",
    "        for i in range(1,(len(word)+1)):\n",
    "            for j in list(data.keys()):\n",
    "                if j.startswith(word[:i]) and (len(j) == len(word)):\n",
    "                    dummy1.append(j)\n",
    "            for k in list(data.keys()):\n",
    "                if k.endswith(word[-i::1]) and (len(k) == len(word)):\n",
    "                    dummy2.append(k)\n",
    "        dummy3 = dummy1 + dummy2\n",
    "        print(len(dummy3))\n",
    "        lis3 = []\n",
    "        for p in dummy3:\n",
    "            lis3.append(similarity_score(p,dummy))\n",
    "        print(len(lis3))\n",
    "        lis3 = np.array(lis3)\n",
    "        dummy4 = np.array(dummy3)\n",
    "        print(\"Did you mean to type any of the below words?\\n\")\n",
    "        print(dummy4[lis3 >= (len(dummy)-2)])"
   ]
  },
  {
   "cell_type": "code",
   "execution_count": null,
   "metadata": {},
   "outputs": [],
   "source": []
  }
 ],
 "metadata": {
  "kernelspec": {
   "display_name": "Python 3",
   "language": "python",
   "name": "python3"
  },
  "language_info": {
   "codemirror_mode": {
    "name": "ipython",
    "version": 3
   },
   "file_extension": ".py",
   "mimetype": "text/x-python",
   "name": "python",
   "nbconvert_exporter": "python",
   "pygments_lexer": "ipython3",
   "version": "3.8.5"
  }
 },
 "nbformat": 4,
 "nbformat_minor": 4
}
